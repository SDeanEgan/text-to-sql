{
 "cells": [
  {
   "cell_type": "markdown",
   "metadata": {},
   "source": [
    "# Test SQL queries with Claude\n"
   ]
  },
  {
   "cell_type": "code",
   "execution_count": 1,
   "metadata": {},
   "outputs": [],
   "source": [
    "anthropic_api_key = \"\"\n",
    "huggingface_token = \"\" # provide your own token/key "
   ]
  },
  {
   "cell_type": "code",
   "execution_count": 2,
   "metadata": {},
   "outputs": [],
   "source": [
    "import torch\n",
    "import asyncio\n",
    "import os\n",
    "import time\n",
    "import json\n",
    "import anthropic\n",
    "import sqlite3\n",
    "from huggingface_hub import login\n",
    "from datasets import load_dataset, DatasetDict\n",
    "from transformers import AutoTokenizer, AutoModelForSeq2SeqLM, Seq2SeqTrainer, Seq2SeqTrainingArguments\n",
    "import evaluate\n",
    "\n",
    "# huggingface login\n",
    "login(token=huggingface_token)\n",
    "\n",
    "# set up the anthropic api client\n",
    "async_client = anthropic.AsyncAnthropic(\n",
    "    api_key=anthropic_api_key,  # Your Anthropic API key\n",
    "    \n",
    "    # Optional \n",
    "    base_url=\"https://api.anthropic.com\",  # Default API endpoint\n",
    "    timeout=60,  # Request timeout in seconds\n",
    "    max_retries=2,  # Number of times to retry failed requests\n",
    "    default_headers=None,  # Additional headers to include in requests\n",
    ")\n",
    "claude = \"claude-3-7-sonnet-20250219\"\n",
    "evaluation_metrics = {}\n",
    "\n",
    "test_data = load_dataset(\"b-mc2/sql-create-context\", split='train[-10%:]')"
   ]
  },
  {
   "cell_type": "code",
   "execution_count": 3,
   "metadata": {},
   "outputs": [],
   "source": [
    "# async function to query claude\n",
    "async def ask_claude_async(question, schema, label):\n",
    "    prompt = f\"\"\"Here is the schema for a database:\n",
    "{schema}\n",
    "Given this schema, can you output a SQL query to answer the following question? \n",
    "Only output the SQL query, use double quotes instead of single quotes in the query, and no markdown formatting or newline characters.\n",
    "Question: {question}\n",
    "\"\"\"\n",
    "    try:\n",
    "        response = await async_client.messages.create(\n",
    "            model=claude,\n",
    "            max_tokens=512,\n",
    "            messages=[{\n",
    "                \"role\": 'user', \n",
    "                \"content\": prompt\n",
    "            }]\n",
    "        )\n",
    "        return (question, response.content[0].text, label)\n",
    "\n",
    "    except Exception as e:\n",
    "        print(f\"Error querying API: {e}\")\n",
    "        return (question, \"\", label)\n",
    "\n",
    "# process a batch of queries concurrently\n",
    "async def process_batch(batch_data):\n",
    "    tasks = [ask_claude_async(example['question'], \n",
    "                              example['context'], \n",
    "                              example['answer']) for example in batch_data]\n",
    "    \n",
    "    return await asyncio.gather(*tasks)\n",
    "\n",
    "# process the dataset in batches\n",
    "async def process_dataset(test_data, batch_size=4):\n",
    "    all_responses = []\n",
    "    total_batches = (len(test_data) + batch_size - 1) // batch_size \n",
    "\n",
    "    # use select method to batch dataset\n",
    "    for batch_num in range(total_batches):\n",
    "        start_idx = batch_num * batch_size\n",
    "        end_idx = min(start_idx + batch_size, len(test_data))\n",
    "        \n",
    "        # get the batch data\n",
    "        batch_data = test_data.select(range(start_idx,end_idx))\n",
    "        \n",
    "        print(f\"Processing batch {batch_num+1}/{total_batches}\")\n",
    "        batch_responses = await process_batch(batch_data)\n",
    "\n",
    "        # make dictionary format from returned data\n",
    "        keys = ['question', 'prediction', 'label']\n",
    "        new_responses = [dict(zip(keys, tup)) for tup in batch_responses]\n",
    "        all_responses.extend([new_responses])\n",
    "\n",
    "        # save stuff in case anthropic gets mad\n",
    "        with open(\"claude_responses.jsonl\", \"a\") as f:\n",
    "            for item in new_responses:\n",
    "                f.write(json.dumps(item) + \"\\n\")\n",
    "        \n",
    "        # small delay to avoid rate limits\n",
    "        if batch_num < total_batches - 1:\n",
    "            await asyncio.sleep(61) # wait a minute to meet rate limit\n",
    "    \n",
    "    return all_responses\n",
    "\n",
    "\n",
    "async def run(data):\n",
    "    # process test data with asyncio\n",
    "    start_time = time.time()\n",
    "    \n",
    "    with open(\"claude_responses.jsonl\", \"r\") as f:\n",
    "        responses = [json.loads(line) for line in f]\n",
    "    print(f\"Checked for claude_responses.jsonl, found {len(responses)} responses!\")\n",
    "    if data.num_rows < len(responses):\n",
    "        data = data.select(range(len(responses, data.num_rows)))\n",
    "        \n",
    "        results = await process_dataset(test_data=data, batch_size=25) # rate limit per minute\n",
    "        \n",
    "        final_time = time.time() - start_time\n",
    "        print(f\"\\nCompleted {len(results)} queries in {final_time:.2f} seconds\")\n",
    "    else:\n",
    "        results = responses\n",
    "        final_time = 21206.04\n",
    "        \n",
    "    '''\n",
    "    Error querying API: Error code: 429 - {'type': 'error', 'error': {'type': 'rate_limit_error', \n",
    "    'message': 'This request would exceed the rate limit for your organization \n",
    "    (REDACTED) of 50 requests per minute. For details, refer to: \n",
    "    https://docs.anthropic.com/en/api/rate-limits. You can see the response headers for current \n",
    "    usage. Please reduce the prompt length or the maximum tokens requested, or try again later. \n",
    "    You may also contact sales at https://www.anthropic.com/contact-sales to discuss your options \n",
    "    for a rate limit increase.'}}\n",
    "    '''\n",
    "    predictions = [result['prediction'] for result in results]\n",
    "    labels = [result['label'] for result in results]\n",
    "    \n",
    "    # evaluate the results\n",
    "    exact_match = evaluate.load(\"exact_match\")\n",
    "    rouge = evaluate.load(\"rouge\")\n",
    "    sacrebleu = evaluate.load(\"sacrebleu\")\n",
    "\n",
    "    metrics = {\n",
    "        \"exact_match_strict\": exact_match.compute(predictions=predictions, references=labels)[\"exact_match\"],\n",
    "        \"exact_match_relaxed\": exact_match.compute(predictions=predictions, \n",
    "                                                   references=labels,\n",
    "                                                   ignore_case=True,\n",
    "                                                   ignore_punctuation=True)[\"exact_match\"],\n",
    "        \"rouge2\": rouge.compute(predictions=predictions, references=labels)[\"rouge2\"],\n",
    "        \"bleu\": sacrebleu.compute(predictions=predictions, references=labels)[\"score\"],\n",
    "        \"inference_time\": final_time\n",
    "    }\n",
    "\n",
    "    return metrics, results\n"
   ]
  },
  {
   "cell_type": "code",
   "execution_count": 4,
   "metadata": {
    "scrolled": true
   },
   "outputs": [
    {
     "name": "stdout",
     "output_type": "stream",
     "text": [
      "Checked for claude_responses.jsonl, found 7858 responses!\n",
      "{'exact_match_strict': 0.30885721557648255, 'exact_match_relaxed': 0.6635276151692543, 'rouge2': 0.9125765505521157, 'bleu': 76.36535606324205, 'inference_time': 21206.04}\n"
     ]
    }
   ],
   "source": [
    "# jupyter notebook execution\n",
    "import nest_asyncio\n",
    "nest_asyncio.apply()  # allows asyncio.run() in jupyter\n",
    "\n",
    "# run sql test dataset\n",
    "claude_metrics, results = asyncio.run(run(test_data #.select(range(0,120,4))\n",
    "                                         )) # use select method for testing\n",
    "evaluation_metrics[claude] = claude_metrics\n",
    "print(claude_metrics)"
   ]
  },
  {
   "cell_type": "code",
   "execution_count": 5,
   "metadata": {},
   "outputs": [
    {
     "name": "stdout",
     "output_type": "stream",
     "text": [
      "Question:   What is the Home team at the Lincoln City Away game?\n",
      "Prediction: SELECT home_team FROM table_name_80 WHERE away_team = \"Lincoln City\"\n",
      "Label:      SELECT home_team FROM table_name_80 WHERE away_team = \"lincoln city\"\n",
      "////////////////////////////////\n",
      "\n",
      "Question:   What is the Away team at the game with a Score of 1 – 0 and Attendance of 1,791?\n",
      "Prediction: SELECT away_team FROM table_name_4 WHERE score = \"1 – 0\" AND attendance = \"1,791\"\n",
      "Label:      SELECT away_team FROM table_name_4 WHERE score = \"1 – 0\" AND attendance = \"1,791\"\n",
      "////////////////////////////////\n",
      "\n",
      "Question:   What is the Home team of the game with a Score of 2 – 2?\n",
      "Prediction: SELECT home_team FROM table_name_98 WHERE score = \"2 – 2\"\n",
      "Label:      SELECT home_team FROM table_name_98 WHERE score = \"2 – 2\"\n",
      "////////////////////////////////\n",
      "\n",
      "Question:   What is the Attendance of the game with a Score of 0 – 0?\n",
      "Prediction: SELECT attendance FROM table_name_94 WHERE score = \"0 – 0\"\n",
      "Label:      SELECT attendance FROM table_name_94 WHERE score = \"0 – 0\"\n",
      "////////////////////////////////\n",
      "\n",
      "Question:   What year had Nintendo EAD, Monolith Soft as developers?\n",
      "Prediction: SELECT year FROM table_name_36 WHERE developer_s_ = \"Nintendo EAD, Monolith Soft\"\n",
      "Label:      SELECT SUM(year) FROM table_name_36 WHERE developer_s_ = \"nintendo ead, monolith soft\"\n",
      "////////////////////////////////\n",
      "\n",
      "Question:   what is the location when the designer is glen peloso and the restaurant is joe boo's cookoos?\n",
      "Prediction: SELECT location FROM table_name_48 WHERE designer = \"glen peloso\" AND restaurant_name = \"joe boo's cookoos\"\n",
      "Label:      SELECT location FROM table_name_48 WHERE designer = \"glen peloso\" AND restaurant_name = \"joe boo's cookoos\"\n",
      "////////////////////////////////\n",
      "\n",
      "Question:   What year did the team from City of Aurora join?\n",
      "Prediction: SELECT year_joined__or_joining_ FROM table_name_57 WHERE city = \"City of Aurora\"\n",
      "Label:      SELECT AVG(year_joined__or_joining_) FROM table_name_57 WHERE city = \"aurora\"\n",
      "////////////////////////////////\n",
      "\n",
      "Question:   What was the total enrollment 08-09 of Franklin County?\n",
      "Prediction: SELECT SUM(enrollment_08_09) FROM table_name_93 WHERE school = \"Franklin County\"\n",
      "Label:      SELECT COUNT(enrollment_08_09) FROM table_name_93 WHERE school = \"franklin county\"\n",
      "////////////////////////////////\n",
      "\n",
      "Question:   What school has a team called the Pirates?\n",
      "Prediction: SELECT school FROM table_name_79 WHERE team_name = \"Pirates\"\n",
      "Label:      SELECT school FROM table_name_79 WHERE team_name = \"pirates\"\n",
      "////////////////////////////////\n",
      "\n",
      "Question:   What is the rank of the team with a time of 1:00.61?\n",
      "Prediction: SELECT rank FROM table_name_1 WHERE time = \"1:00.61\"\n",
      "Label:      SELECT AVG(rank) FROM table_name_1 WHERE time = \"1:00.61\"\n",
      "////////////////////////////////\n",
      "\n"
     ]
    }
   ],
   "source": [
    "for result in results[:10]:\n",
    "    print('Question:   ' + result['question'])\n",
    "    print('Prediction: ' + result['prediction'])\n",
    "    print('Label:      ' + result['label'])\n",
    "    print('////////////////////////////////\\n')"
   ]
  },
  {
   "cell_type": "code",
   "execution_count": 6,
   "metadata": {},
   "outputs": [
    {
     "name": "stdout",
     "output_type": "stream",
     "text": [
      "DatasetDict class details: \n",
      " DatasetDict({\n",
      "    test: Dataset({\n",
      "        features: ['input', 'target'],\n",
      "        num_rows: 7858\n",
      "    })\n",
      "}) \n",
      " First formatted example: \n",
      " {'input': 'schema: \\nCREATE TABLE table_name_80 (home_team VARCHAR, away_team VARCHAR)\\n\\ntranslate to SQL: What is the Home team at the Lincoln City Away game?', 'target': 'SELECT home_team FROM table_name_80 WHERE away_team = \"lincoln city\"'}\n"
     ]
    },
    {
     "data": {
      "application/vnd.jupyter.widget-view+json": {
       "model_id": "76a55ad19cd0484d8fb319d25352e2c5",
       "version_major": 2,
       "version_minor": 0
      },
      "text/plain": [
       "Map:   0%|          | 0/7858 [00:00<?, ? examples/s]"
      ]
     },
     "metadata": {},
     "output_type": "display_data"
    },
    {
     "name": "stdout",
     "output_type": "stream",
     "text": [
      "Evaluation Metrics for finetuned/codet5-base-sql-create-context:  {'exact_match_strict': 0.8240010180707559, 'exact_match_relaxed': 0.8862305930262153, 'rouge2': 0.9825409086504779, 'bleu': 97.28652762042714, 'inference_time': 106.53001141548157}\n"
     ]
    }
   ],
   "source": [
    "model_info = [{'name': 'codet5-base-sql-create-context', 'path': 'finetuned/codet5-base-sql-create-context', 'batch_size': 16}]\n",
    "\n",
    "dataset = DatasetDict({ 'test': test_data })\n",
    "\n",
    "def format_dataset(example):\n",
    "    return {'input': 'schema: \\n' + example['context'][:420] + '\\n\\ntranslate to SQL: ' + example['question'], 'target': example['answer']}\n",
    "\n",
    "formatted_test_dataset = dataset.map(format_dataset, remove_columns=dataset['test'].column_names)\n",
    "\n",
    "print(\"DatasetDict class details: \\n\", formatted_test_dataset, \"\\n\", \"First formatted example: \\n\", formatted_test_dataset['test'][0])\n",
    "\n",
    "\n",
    "# function to process testing data for finetuned models\n",
    "def new_testing_pipeline():\n",
    "    cuda = torch.cuda.is_available()\n",
    "    device = torch.device(\"cuda\" if cuda else \"cpu\")\n",
    "\n",
    "    # Metric calculation \n",
    "    # Exact Match https://huggingface.co/spaces/evaluate-metric/exact_match\n",
    "    # ROUGE2 score https://huggingface.co/spaces/evaluate-metric/rouge\n",
    "    # BLEU score https://huggingface.co/spaces/evaluate-metric/sacrebleu\n",
    "    exact_match = evaluate.load(\"exact_match\")\n",
    "    rouge = evaluate.load(\"rouge\")\n",
    "    sacrebleu = evaluate.load(\"sacrebleu\")\n",
    "\n",
    "    metrics_dict = {}\n",
    "\n",
    "    for info in model_info:\n",
    "        \n",
    "        path = info['path']\n",
    "\n",
    "        tokenizer = AutoTokenizer.from_pretrained(path)\n",
    "        model = AutoModelForSeq2SeqLM.from_pretrained(path)\n",
    "\n",
    "        model.to(device)\n",
    "\n",
    "        def translate_to_sql(batch):    \n",
    "            inputs = tokenizer(batch['input'], truncation=True, padding='max_length', max_length=256, return_tensors='pt').to(device)\n",
    "            input_ids = inputs.input_ids\n",
    "            attention_mask = inputs.attention_mask\n",
    "            output = model.generate(input_ids, attention_mask=attention_mask, max_length=256)\n",
    "            predictions = [tokenizer.decode(o, skip_special_tokens=True) for o in output]\n",
    "            \n",
    "            return  {'prediction': predictions, 'label': batch['target']}\n",
    "\n",
    "        # time the inference process by mapping to the DatasetDict\n",
    "        start = time.time()\n",
    "        \n",
    "        results = formatted_test_dataset.map(translate_to_sql, \n",
    "                                             remove_columns=formatted_test_dataset['test'].column_names, \n",
    "                                             batched=True,\n",
    "                                             batch_size=128)\n",
    "\n",
    "        end = time.time()\n",
    "\n",
    "        predictions, labels = results['test']['prediction'], results['test']['label']\n",
    "        \n",
    "        metrics = {\n",
    "            \"exact_match_strict\": exact_match.compute(predictions=predictions, references=labels)[\"exact_match\"],\n",
    "            \"exact_match_relaxed\": exact_match.compute(predictions=predictions, \n",
    "                                                       references=labels,\n",
    "                                                       ignore_case=True,\n",
    "                                                       ignore_punctuation=True)[\"exact_match\"],\n",
    "            \"rouge2\": rouge.compute(predictions=predictions, references=labels)[\"rouge2\"],\n",
    "            \"bleu\": sacrebleu.compute(predictions=predictions, references=labels)[\"score\"],\n",
    "            \"inference_time\": end - start\n",
    "        }\n",
    "        print(f'Evaluation Metrics for {path}: ', metrics)\n",
    "        metrics_dict[path] = metrics\n",
    "\n",
    "        # clean up memory\n",
    "        del model\n",
    "        if cuda:\n",
    "            torch.cuda.empty_cache()\n",
    "\n",
    "    return metrics_dict, results\n",
    "\n",
    "t5_metrics, t5_results = new_testing_pipeline()"
   ]
  },
  {
   "cell_type": "code",
   "execution_count": 25,
   "metadata": {},
   "outputs": [
    {
     "data": {
      "image/png": "[encoded data removed]",
      "text/plain": [
       "<Figure size 1200x200 with 1 Axes>"
      ]
     },
     "metadata": {},
     "output_type": "display_data"
    },
    {
     "data": {
      "image/png": "[encoded data removed]",
      "text/plain": [
       "<Figure size 1200x500 with 4 Axes>"
      ]
     },
     "metadata": {},
     "output_type": "display_data"
    }
   ],
   "source": [
    "import pandas as pd\n",
    "import seaborn as sns\n",
    "import matplotlib.pyplot as plt\n",
    "import warnings\n",
    "warnings.filterwarnings(\"ignore\")\n",
    "\n",
    "t5_new_name = model_info[0]['path']\n",
    "evaluation_metrics[t5_new_name[10:]] = t5_metrics[t5_new_name]\n",
    "\n",
    "df = pd.DataFrame(evaluation_metrics).T\n",
    "\n",
    "# hbar for time taken\n",
    "plt.figure(figsize=(12, 2))\n",
    "sns.barplot(x=df.inference_time, y=df.index, orient='h', palette='muted')\n",
    "\n",
    "plt.title('Testing Time Comparison')\n",
    "plt.xlabel('Test Data Inference Time (Seconds)')\n",
    "plt.tight_layout()\n",
    "\n",
    "# side by side for main metrics\n",
    "fig, axes = plt.subplots(1, 4, figsize=(12, 5), sharey=False)\n",
    "\n",
    "for i, metric in enumerate(df.columns[:4]):\n",
    "    ax = axes[i]\n",
    "    subset = df[metric].to_frame()\n",
    "    sns.barplot(data=subset, x=df.index, y=metric, ax=ax, palette='muted')\n",
    "    ax.set_title(metric)\n",
    "    ax.set_xlabel('')\n",
    "    ax.set_xticklabels(ax.get_xticklabels(), rotation=30)\n",
    "    ax.set_ylabel('')\n",
    "\n",
    "plt.suptitle('Model Testing Comparison Across Metrics', fontsize=16)\n",
    "plt.tight_layout(rect=[0, 0, 1, 0.95])\n",
    "plt.show()"
   ]
  },
  {
   "cell_type": "code",
   "execution_count": 19,
   "metadata": {},
   "outputs": [
    {
     "data": {
      "text/html": [
       "<div>\n",
       "<style scoped>\n",
       "    .dataframe tbody tr th:only-of-type {\n",
       "        vertical-align: middle;\n",
       "    }\n",
       "\n",
       "    .dataframe tbody tr th {\n",
       "        vertical-align: top;\n",
       "    }\n",
       "\n",
       "    .dataframe thead th {\n",
       "        text-align: right;\n",
       "    }\n",
       "</style>\n",
       "<table border=\"1\" class=\"dataframe\">\n",
       "  <thead>\n",
       "    <tr style=\"text-align: right;\">\n",
       "      <th></th>\n",
       "      <th>exact_match_strict</th>\n",
       "      <th>exact_match_relaxed</th>\n",
       "      <th>rouge2</th>\n",
       "      <th>bleu</th>\n",
       "      <th>inference_time</th>\n",
       "    </tr>\n",
       "  </thead>\n",
       "  <tbody>\n",
       "    <tr>\n",
       "      <th>claude-3-7-sonnet-20250219</th>\n",
       "      <td>0.308857</td>\n",
       "      <td>0.663528</td>\n",
       "      <td>0.912577</td>\n",
       "      <td>76.365356</td>\n",
       "      <td>21206.040000</td>\n",
       "    </tr>\n",
       "    <tr>\n",
       "      <th>codet5-base-sql-create-context</th>\n",
       "      <td>0.824001</td>\n",
       "      <td>0.886231</td>\n",
       "      <td>0.982541</td>\n",
       "      <td>97.286528</td>\n",
       "      <td>106.530011</td>\n",
       "    </tr>\n",
       "  </tbody>\n",
       "</table>\n",
       "</div>"
      ],
      "text/plain": [
       "                                exact_match_strict  exact_match_relaxed  \\\n",
       "claude-3-7-sonnet-20250219                0.308857             0.663528   \n",
       "codet5-base-sql-create-context            0.824001             0.886231   \n",
       "\n",
       "                                  rouge2       bleu  inference_time  \n",
       "claude-3-7-sonnet-20250219      0.912577  76.365356    21206.040000  \n",
       "codet5-base-sql-create-context  0.982541  97.286528      106.530011  "
      ]
     },
     "execution_count": 19,
     "metadata": {},
     "output_type": "execute_result"
    }
   ],
   "source": [
    "df"
   ]
  },
  {
   "cell_type": "code",
   "execution_count": 26,
   "metadata": {},
   "outputs": [
    {
     "data": {
      "text/plain": [
       "0.8240010180707559"
      ]
     },
     "execution_count": 26,
     "metadata": {},
     "output_type": "execute_result"
    }
   ],
   "source": [
    "t5_results_df = pd.DataFrame(t5_results['test'].to_dict())\n",
    "sum(t5_results_df['prediction'] == t5_results_df['label']) / len(t5_results_df)"
   ]
  },
  {
   "cell_type": "code",
   "execution_count": 27,
   "metadata": {},
   "outputs": [],
   "source": [
    "# store the model and maybe push to huggingface hub?\n",
    "with open(\"claude_test.json\", \"w\") as f:\n",
    "    json.dump(evaluation_metrics, f, indent=4)"
   ]
  },
  {
   "cell_type": "code",
   "execution_count": null,
   "metadata": {},
   "outputs": [],
   "source": []
  }
 ],
 "metadata": {
  "kernelspec": {
   "display_name": "Python 3 (ipykernel)",
   "language": "python",
   "name": "python3"
  },
  "language_info": {
   "codemirror_mode": {
    "name": "ipython",
    "version": 3
   },
   "file_extension": ".py",
   "mimetype": "text/x-python",
   "name": "python",
   "nbconvert_exporter": "python",
   "pygments_lexer": "ipython3",
   "version": "3.12.3"
  }
 },
 "nbformat": 4,
 "nbformat_minor": 4
}
