{
 "cells": [
  {
   "cell_type": "markdown",
   "id": "d15c0c91-e766-4f1d-af9e-fedcf1ea5a28",
   "metadata": {},
   "source": [
    "# Check the SQL-Create-Context Dataset for Issues"
   ]
  },
  {
   "cell_type": "code",
   "execution_count": 1,
   "id": "66b95f02-6bf6-4e21-9a5e-fb4158d6ee79",
   "metadata": {
    "id": "IADibkaEs79C"
   },
   "outputs": [],
   "source": [
    "from huggingface_hub import login\n",
    "from datasets import load_dataset, DatasetDict\n",
    "import evaluate\n",
    "from transformers import AutoTokenizer, T5ForConditionalGeneration, Seq2SeqTrainer, Seq2SeqTrainingArguments\n",
    "import pandas as pd\n",
    "\n",
    "login(token=\"\") # place your own token here"
   ]
  },
  {
   "cell_type": "code",
   "execution_count": 2,
   "id": "aa7d0e04-5ff0-47fb-b8b0-03d56afbeefe",
   "metadata": {},
   "outputs": [],
   "source": [
    "dataset = DatasetDict({ 'train': load_dataset(\"b-mc2/sql-create-context\", split='train[:80%]'),\n",
    "                            'validation': load_dataset(\"b-mc2/sql-create-context\", split='train[-20%:-10%]'),\n",
    "                            'test': load_dataset(\"b-mc2/sql-create-context\", split='train[-10%:]'),\n",
    "                      })\n",
    "\n",
    "def format_dataset(example):\n",
    "    return {'input': 'schema: \\n' + example['context'][:420] + '\\n\\ntranslate to SQL: ' + example['question'], 'target': example['answer']}\n",
    "\n",
    "formatted_dataset = dataset.map(format_dataset, remove_columns=dataset['train'].column_names)"
   ]
  },
  {
   "cell_type": "code",
   "execution_count": 3,
   "id": "ba9daccb-700b-4ca0-8eb3-8ae3ae7ee982",
   "metadata": {},
   "outputs": [],
   "source": [
    "train_df = pd.DataFrame(formatted_dataset['train'].to_dict())\n",
    "validation_df = pd.DataFrame(formatted_dataset['validation'].to_dict())\n",
    "test_df = pd.DataFrame(formatted_dataset['test'].to_dict())"
   ]
  },
  {
   "cell_type": "code",
   "execution_count": 4,
   "id": "9c6466bd-3e4c-4959-8b3b-4d1be6c78ca6",
   "metadata": {},
   "outputs": [
    {
     "name": "stdout",
     "output_type": "stream",
     "text": [
      "Found 0 duplicate rows in the test dataset\n",
      "Duplicates represent 0.00% of your test set\n"
     ]
    }
   ],
   "source": [
    "duplicate_rows = train_df[train_df.duplicated(keep='first')]\n",
    "\n",
    "print(f\"Found {len(duplicate_rows)} duplicate rows in the test dataset\")\n",
    "print(f\"Duplicates represent {(len(duplicate_rows) / len(train_df) * 100):.2f}% of your test set\")"
   ]
  },
  {
   "cell_type": "code",
   "execution_count": 5,
   "id": "f839bcf2-1c59-4b93-a7cb-767999f4937e",
   "metadata": {},
   "outputs": [
    {
     "name": "stdout",
     "output_type": "stream",
     "text": [
      "Found 0 duplicate rows in the test dataset\n",
      "Duplicates represent 0.00% of your test set\n"
     ]
    }
   ],
   "source": [
    "duplicate_rows = validation_df[validation_df.duplicated(keep='first')]\n",
    "\n",
    "print(f\"Found {len(duplicate_rows)} duplicate rows in the test dataset\")\n",
    "print(f\"Duplicates represent {(len(duplicate_rows) / len(validation_df) * 100):.2f}% of your test set\")"
   ]
  },
  {
   "cell_type": "code",
   "execution_count": 6,
   "id": "a4eb66fd-353b-4117-a91a-710b3cbf78a7",
   "metadata": {},
   "outputs": [
    {
     "name": "stdout",
     "output_type": "stream",
     "text": [
      "Found 0 duplicate rows in the test dataset\n",
      "Duplicates represent 0.00% of your test set\n"
     ]
    }
   ],
   "source": [
    "duplicate_rows = test_df[test_df.duplicated(keep='first')]\n",
    "\n",
    "print(f\"Found {len(duplicate_rows)} duplicate rows in the test dataset\")\n",
    "print(f\"Duplicates represent {(len(duplicate_rows) / len(test_df) * 100):.2f}% of your test set\")"
   ]
  },
  {
   "cell_type": "code",
   "execution_count": 7,
   "id": "4faa9275-3d86-42e0-bb09-c463a58a3cdf",
   "metadata": {},
   "outputs": [
    {
     "name": "stdout",
     "output_type": "stream",
     "text": [
      "Found 0 rows with matching input values\n",
      "Found 0 rows with matching target values\n",
      "This represents 0.00% of the test set\n",
      "This represents 0.00% of the test set\n"
     ]
    }
   ],
   "source": [
    "matching_targets = train_df.merge(test_df, on='target', suffixes=('_train', '_test'))\n",
    "matching_inputs = train_df.merge(test_df, on='input', suffixes=('_train', '_test'))\n",
    "\n",
    "print(f\"Found {len(matching_inputs)} rows with matching input values\")\n",
    "print(f\"Found {len(matching_targets)} rows with matching target values\")\n",
    "\n",
    "print(f\"This represents {(len(matching_inputs) / len(test_df) * 100):.2f}% of the test set\")\n",
    "print(f\"This represents {(len(matching_targets) / len(test_df) * 100):.2f}% of the test set\")"
   ]
  },
  {
   "cell_type": "code",
   "execution_count": 8,
   "id": "2a9112a1-ef5c-4b25-88d3-f9c6cfba22f9",
   "metadata": {},
   "outputs": [
    {
     "name": "stdout",
     "output_type": "stream",
     "text": [
      "Found 0 rows with matching input values\n",
      "Found 0 rows with matching target values\n",
      "This represents 0.00% of the test set\n",
      "This represents 0.00% of the test set\n"
     ]
    }
   ],
   "source": [
    "matching_targets = validation_df.merge(test_df, on='target', suffixes=('_train', '_test'))\n",
    "matching_inputs = validation_df.merge(test_df, on='input', suffixes=('_train', '_test'))\n",
    "\n",
    "print(f\"Found {len(matching_inputs)} rows with matching input values\")\n",
    "print(f\"Found {len(matching_targets)} rows with matching target values\")\n",
    "\n",
    "print(f\"This represents {(len(matching_inputs) / len(test_df) * 100):.2f}% of the test set\")\n",
    "print(f\"This represents {(len(matching_targets) / len(test_df) * 100):.2f}% of the test set\")"
   ]
  },
  {
   "cell_type": "code",
   "execution_count": 9,
   "id": "5c8354c9-e120-495b-a817-ca72b9057481",
   "metadata": {},
   "outputs": [
    {
     "data": {
      "text/html": [
       "<div>\n",
       "<style scoped>\n",
       "    .dataframe tbody tr th:only-of-type {\n",
       "        vertical-align: middle;\n",
       "    }\n",
       "\n",
       "    .dataframe tbody tr th {\n",
       "        vertical-align: top;\n",
       "    }\n",
       "\n",
       "    .dataframe thead th {\n",
       "        text-align: right;\n",
       "    }\n",
       "</style>\n",
       "<table border=\"1\" class=\"dataframe\">\n",
       "  <thead>\n",
       "    <tr style=\"text-align: right;\">\n",
       "      <th></th>\n",
       "      <th>input</th>\n",
       "      <th>target_train</th>\n",
       "      <th>target_test</th>\n",
       "    </tr>\n",
       "  </thead>\n",
       "  <tbody>\n",
       "  </tbody>\n",
       "</table>\n",
       "</div>"
      ],
      "text/plain": [
       "Empty DataFrame\n",
       "Columns: [input, target_train, target_test]\n",
       "Index: []"
      ]
     },
     "execution_count": 9,
     "metadata": {},
     "output_type": "execute_result"
    }
   ],
   "source": [
    "matching_inputs"
   ]
  },
  {
   "cell_type": "code",
   "execution_count": null,
   "id": "51b3c3a4-6223-4998-b55e-0461ec6cdb5e",
   "metadata": {},
   "outputs": [],
   "source": []
  }
 ],
 "metadata": {
  "kernelspec": {
   "display_name": "Python (project_env)",
   "language": "python",
   "name": "project_env"
  },
  "language_info": {
   "codemirror_mode": {
    "name": "ipython",
    "version": 3
   },
   "file_extension": ".py",
   "mimetype": "text/x-python",
   "name": "python",
   "nbconvert_exporter": "python",
   "pygments_lexer": "ipython3",
   "version": "3.10.8"
  }
 },
 "nbformat": 4,
 "nbformat_minor": 5
}
